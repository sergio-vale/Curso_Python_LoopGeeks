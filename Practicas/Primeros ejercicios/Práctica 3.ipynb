{
 "cells": [
  {
   "cell_type": "markdown",
   "metadata": {},
   "source": [
    "# Práctica 3"
   ]
  },
  {
   "cell_type": "markdown",
   "metadata": {},
   "source": [
    "Diseñe un login, basándose en la idea del programa anterior si así lo desea.\n",
    "Nombre de usuario escójalo usted cual usar en su programa y contraseña\n",
    "debe ser = 019283, en dicho login el nombre de usuario que usted defina\n",
    "no debe cambiar nunca, por ende se entiende que debe ser una constante,\n",
    "defina el valor como una constante, contraseña puede ser cambiada en\n",
    "cualquier momento por ende se entiende que es variable, sin embargo no\n",
    "es necesario cambiar el valor de contraseña de momento, el usuario\n",
    "ingresará los datos para iniciar sesión, de no ser correcto alguno de los\n",
    "datos informar al usuario que uno de los datos es incorrecto y el script\n",
    "solicitará de nuevo los datos al usuario hasta que logre iniciar sesión."
   ]
  },
  {
   "cell_type": "markdown",
   "metadata": {},
   "source": [
    "## Declaración de variables"
   ]
  },
  {
   "cell_type": "code",
   "execution_count": 1,
   "metadata": {},
   "outputs": [],
   "source": [
    "usuario = 'Serg_2029' #Usuario por defecto\n",
    "usuario_i = ' '#Usuario que se introducirá y debe ser idéntico a constante 'usuario'\n",
    "clave = '019283'#Contraseña por defecto\n",
    "clave_i = ' '#Variable que se introducirá y debe ser idéntico a 'clave'"
   ]
  },
  {
   "cell_type": "markdown",
   "metadata": {},
   "source": [
    "## Login y cambio de contraseña"
   ]
  },
  {
   "cell_type": "markdown",
   "metadata": {},
   "source": [
    "La parte de iniciar sesión se repetirá hasta iniciar correctamente, y cambiar la contraseña también. En el caso de decirdir no cambiar contraseña se termina este bloque.\n",
    "#Nota: Se intentó dar la opción de confirmar el cambio de contraseña, peor la manera en la que se planteó lo complico más de lo que debía, en caso de implementarlo con éxito se actualizará esta notebook"
   ]
  },
  {
   "cell_type": "code",
   "execution_count": 2,
   "metadata": {},
   "outputs": [
    {
     "name": "stdout",
     "output_type": "stream",
     "text": [
      "Introduzca su nombre de usuario: Serg_2029\n",
      "Introduzca la clave: p\n",
      "La contraseña intrducida es incorrecta\n",
      "\n",
      "Introduzca su nombre de usuario: p\n",
      "Introduzca la clave: 019283\n",
      "El ususario introducido es incorrecto\n",
      "\n",
      "Introduzca su nombre de usuario: Serg_2029\n",
      "Introduzca la clave: 019283\n",
      "\n",
      "Contraseña correcta, sesión iniciada\n",
      "\n",
      "¿Desa cambiar la contraseña?\n",
      "(Presione 'Y' para crear una nueva contraseña o 'N' para continuar)\n",
      "y\n",
      "Escriba la nueva contraseña:  Polea\n",
      "La nueva contraseña es Polea\n",
      "\n",
      "\n",
      "Es necesario iniciar sesión nuevamente\n",
      "\n",
      "\n",
      "Introduzca su nombre de usuario: Ser\n",
      "Introduzca la clave: dw\n",
      "El usuario y la contraseña introducidos son incorrectos\n",
      "\n",
      "Introduzca su nombre de usuario: Serg_2029\n",
      "Introduzca la clave: 019283\n",
      "La contraseña intrducida es incorrecta\n",
      "\n",
      "Introduzca su nombre de usuario: Serg_2029\n",
      "Introduzca la clave: Polea\n",
      "\n",
      "Contraseña correcta, sesión iniciada\n",
      "\n",
      "¿Desa cambiar la contraseña?\n",
      "(Presione 'Y' para crear una nueva contraseña o 'N' para continuar)\n",
      "o\n",
      "\n",
      "(Presione 'Y' para crear una nueva contraseña o 'N' para continuar)\n",
      "N\n",
      "\n"
     ]
    }
   ],
   "source": [
    "while True:\n",
    "    while True:\n",
    "        #Bucle de login\n",
    "        usuario_i = input(\"Introduzca su nombre de usuario: \")\n",
    "        clave_i = input(\"Introduzca la clave: \")\n",
    "        if usuario != usuario_i and clave != clave_i:#Mensajes de error en caso de que alguna variable sea diferente a las constantes\n",
    "            print(\"El usuario y la contraseña introducidos son incorrectos\\n\")\n",
    "        elif usuario_i != usuario:\n",
    "            print(\"El ususario introducido es incorrecto\\n\")\n",
    "        elif clave != clave_i:\n",
    "            print(\"La contraseña intrducida es incorrecta\\n\")\n",
    "        else:\n",
    "            print('\\nContraseña correcta, sesión iniciada\\n')#Cuando todos están correctos se rompe el bucle de login\n",
    "            break\n",
    "    print(\"¿Desa cambiar la contraseña?\")\n",
    "    while True: \n",
    "        #Bloque para cambiar la contraseña\n",
    "        n_contra = input(\"(Presione 'Y' para crear una nueva contraseña o 'N' para continuar)\\n\").upper()\n",
    "        if n_contra == 'Y':\n",
    "            clave = input(\"Escriba la nueva contraseña:  \")\n",
    "            print(f\"La nueva contraseña es {clave}\\n\")\n",
    "            print('\\nEs necesario iniciar sesión nuevamente\\n')\n",
    "            break\n",
    "        elif n_contra == 'N':\n",
    "            print()\n",
    "            break\n",
    "        else:\n",
    "            print()\n",
    "    if n_contra == 'Y':\n",
    "        #Si el usuario Cambió la contraseña n_contra \n",
    "        print()\n",
    "    else:\n",
    "        break"
   ]
  },
  {
   "cell_type": "markdown",
   "metadata": {},
   "source": [
    "## Plus juego al que se accesa al ingresar con éxito"
   ]
  },
  {
   "cell_type": "code",
   "execution_count": 3,
   "metadata": {},
   "outputs": [
    {
     "name": "stdout",
     "output_type": "stream",
     "text": [
      "><><><><TIME TO PLAY><><><><\n",
      "   <<   A) Chiste      >>\n",
      "   <<   B)Adivinanza   >>\n",
      "   <<   C)Acertijo     >>\n",
      "Escoja su juego o pulse cualquier otra tecla para salir para salir: A\n",
      "\n",
      "Había un perro llamado pegamento se cayó y se pegó\n",
      "\n",
      "><><><><TIME TO PLAY><><><><\n",
      "   <<   A) Chiste      >>\n",
      "   <<   B)Adivinanza   >>\n",
      "   <<   C)Acertijo     >>\n",
      "Escoja su juego o pulse cualquier otra tecla para salir para salir: B\n",
      "\n",
      "Adivina adivinador que tiene el rey en la pansa\n",
      "\n",
      "A) El ombligo\n",
      "B) Tripas\n",
      "A\n",
      "Excelente\n",
      "\n",
      "><><><><TIME TO PLAY><><><><\n",
      "   <<   A) Chiste      >>\n",
      "   <<   B)Adivinanza   >>\n",
      "   <<   C)Acertijo     >>\n",
      "Escoja su juego o pulse cualquier otra tecla para salir para salir: C\n",
      "\n",
      "¿Que se puede ver con los ojos cerrados?\n",
      "\n",
      "A) Nada\n",
      "B) La oscuridad\n",
      "b\n",
      "Excelente\n",
      "\n",
      "><><><><TIME TO PLAY><><><><\n",
      "   <<   A) Chiste      >>\n",
      "   <<   B)Adivinanza   >>\n",
      "   <<   C)Acertijo     >>\n",
      "Escoja su juego o pulse cualquier otra tecla para salir para salir: r\n",
      "\n",
      "Gracias por su visita\n",
      "\n"
     ]
    }
   ],
   "source": [
    "while True:\n",
    "    print(\"><><><><TIME TO PLAY><><><><\")\n",
    "    print(\"   <<   A) Chiste      >>\\n   <<   B)Adivinanza   >>\\n   <<   C)Acertijo     >>\")\n",
    "    juego = input(\"Escoja su juego o pulse cualquier otra tecla para salir para salir: \").upper()\n",
    "    if juego == 'A':\n",
    "        print(\"\\nHabía un perro llamado pegamento se cayó y se pegó\\n\")\n",
    "    elif juego == 'B':\n",
    "        print(\"\\nAdivina adivinador que tiene el rey en la pansa\\n\")\n",
    "        respuesta = input(\"A) El ombligo\\nB) Tripas\\n\").upper()\n",
    "        if respuesta == 'A':\n",
    "            print(\"Excelente\\n\")\n",
    "        elif respuesta == 'B':\n",
    "            print(\"Incorrecto\\n\")\n",
    "        else:\n",
    "            print(\"Sólo A o B\")\n",
    "    elif juego == 'C':\n",
    "        print(\"\\n¿Que se puede ver con los ojos cerrados?\\n\")\n",
    "        respuesta_2= input(\"A) Nada\\nB) La oscuridad\\n\").upper()\n",
    "        if respuesta_2 == 'A':\n",
    "            print(\"Incorrecto\\n\")\n",
    "        elif respuesta_2 == 'B':\n",
    "            print(\"Excelente\\n\")\n",
    "        else:\n",
    "            print(\"Solo A y B\\n\")\n",
    "    else:\n",
    "        print(\"\\nGracias por su visita\\n\")\n",
    "        break"
   ]
  },
  {
   "cell_type": "code",
   "execution_count": null,
   "metadata": {},
   "outputs": [],
   "source": []
  }
 ],
 "metadata": {
  "kernelspec": {
   "display_name": "Python 3",
   "language": "python",
   "name": "python3"
  },
  "language_info": {
   "codemirror_mode": {
    "name": "ipython",
    "version": 3
   },
   "file_extension": ".py",
   "mimetype": "text/x-python",
   "name": "python",
   "nbconvert_exporter": "python",
   "pygments_lexer": "ipython3",
   "version": "3.7.6"
  }
 },
 "nbformat": 4,
 "nbformat_minor": 4
}
