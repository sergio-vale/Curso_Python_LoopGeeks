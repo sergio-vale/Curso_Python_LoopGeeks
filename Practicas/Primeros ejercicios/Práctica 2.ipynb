{
 "cells": [
  {
   "cell_type": "markdown",
   "metadata": {},
   "source": [
    "# Práctica 2"
   ]
  },
  {
   "cell_type": "markdown",
   "metadata": {},
   "source": [
    "Escriba un programa que almacena la cadena de caracteres\n",
    "“contraseña123” en una variable. Pregunte al usuario por la contraseña\n",
    "hasta que introduzca la contraseña correcta. Una vez ponga la contraseña\n",
    "correcta muestre en pantalla un mensaje que diga “Contraseña correcta,\n",
    "sesión iniciada”"
   ]
  },
  {
   "cell_type": "markdown",
   "metadata": {},
   "source": [
    "## Resolución del problema"
   ]
  },
  {
   "cell_type": "markdown",
   "metadata": {},
   "source": [
    "El problema en cuestión me resultó sencillo, utilicé una constante para la contraseña y una variable vacía donde se guardarrá la palabra introducida por el usuario. La función while pedirá el valor de clave_i hasta que sea igual a clave, cuando esto suceda la función se de tiene y se imprime en pantalla \"Contraseña correcta sesión iniciada\""
   ]
  },
  {
   "cell_type": "code",
   "execution_count": 1,
   "metadata": {},
   "outputs": [],
   "source": [
    "clave = 'contraseña1234' #Una constante que almacena la contraseña"
   ]
  },
  {
   "cell_type": "code",
   "execution_count": 2,
   "metadata": {},
   "outputs": [],
   "source": [
    "clave_i = ' ' #Variable de que guardará la contraseña introducida por el ususuario"
   ]
  },
  {
   "cell_type": "code",
   "execution_count": 3,
   "metadata": {},
   "outputs": [
    {
     "name": "stdout",
     "output_type": "stream",
     "text": [
      "Introduzca la clave: 4\n",
      "Introduzca la clave: \n",
      "Introduzca la clave: 787\n",
      "Introduzca la clave: contraseña1234\n"
     ]
    }
   ],
   "source": [
    "while clave_i != clave:#El ciclo se romperá hasta que se introduzca la contraseña correcta\n",
    "    clave_i = input(\"Introduzca la clave: \")"
   ]
  },
  {
   "cell_type": "code",
   "execution_count": 4,
   "metadata": {},
   "outputs": [
    {
     "name": "stdout",
     "output_type": "stream",
     "text": [
      "Contraseña correcta, sesión iniciada\n"
     ]
    }
   ],
   "source": [
    "print(\"Contraseña correcta, sesión iniciada\")#Mensaje final"
   ]
  }
 ],
 "metadata": {
  "kernelspec": {
   "display_name": "Python 3",
   "language": "python",
   "name": "python3"
  },
  "language_info": {
   "codemirror_mode": {
    "name": "ipython",
    "version": 3
   },
   "file_extension": ".py",
   "mimetype": "text/x-python",
   "name": "python",
   "nbconvert_exporter": "python",
   "pygments_lexer": "ipython3",
   "version": "3.7.6"
  }
 },
 "nbformat": 4,
 "nbformat_minor": 4
}
