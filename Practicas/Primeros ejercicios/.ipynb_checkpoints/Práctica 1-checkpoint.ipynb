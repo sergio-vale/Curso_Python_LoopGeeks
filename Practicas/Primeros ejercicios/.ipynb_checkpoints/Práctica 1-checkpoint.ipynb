{
 "cells": [
  {
   "cell_type": "markdown",
   "metadata": {},
   "source": [
    "# Práctica 1"
   ]
  },
  {
   "cell_type": "markdown",
   "metadata": {},
   "source": [
    "En Cinemex existen 4 tipos de boletos, estudiante, niño, adulto y adulto\n",
    "mayor. Cinemex desea que usted diseñe un programa que solicitando una\n",
    "serie de datos pueda determinar que tipo de cliente es y por ende el costo\n",
    "que tendrá cada uno de sus boletos. Dichos resultados los ha de mostrar\n",
    "en pantalla, la forma de hacerlo es libre, diseñe su programa a su gusto.\n",
    "Considere lo siguiente:\n",
    "\n",
    "Niño 3-14 años $25 (niños menores de 3 años no pagan boleto)\n",
    "\n",
    "Estudiante $32 (debe tener entre 15-21 años e indicar que sea estudiante)\n",
    "\n",
    "Adulto $43 (18 años en adelante, de no ser estudiante debe pagar como\n",
    "adulto)\n",
    "\n",
    "Adulto mayor $30 (65 años en adelante)"
   ]
  },
  {
   "cell_type": "markdown",
   "metadata": {},
   "source": [
    "## Definiendo las variables"
   ]
  },
  {
   "cell_type": "code",
   "execution_count": 1,
   "metadata": {},
   "outputs": [],
   "source": [
    "total = 0\n",
    "#Almacenaá la cantidad de dinero gastados"
   ]
  },
  {
   "cell_type": "code",
   "execution_count": 2,
   "metadata": {},
   "outputs": [],
   "source": [
    "niños = 0\n",
    "estudiante = 0\n",
    "adulto = 0\n",
    "adulto_mayor = 0\n",
    "#Servirá para determinar el número de personas que han comprado en las cuatro categorías diferentes"
   ]
  },
  {
   "cell_type": "code",
   "execution_count": 3,
   "metadata": {},
   "outputs": [],
   "source": [
    "numero_cliente = 1\n",
    "#Fuincionará para saber el numero del que se anota la edad"
   ]
  },
  {
   "cell_type": "markdown",
   "metadata": {},
   "source": [
    "# Pedida de boletos"
   ]
  },
  {
   "cell_type": "markdown",
   "metadata": {},
   "source": [
    "Decidí que cada vez que alguien use el programa, se preguntará el número de boletos que se comprarán, que servirá más adelante para saber cuantas veces se preguntará por la edad del cliente. Al principio sólo era un mensaje inicial, pero se podía dar el caso de que alguien escribiera una letra y el programa fallara, así que se creó un mensaje de error. Pero ¿Y sí alguien pone 0 o un número negativo? Así que se creo un bucle infinito con while true, que no se detendrá hasta que se escriba un número mayor a 0"
   ]
  },
  {
   "cell_type": "code",
   "execution_count": 4,
   "metadata": {},
   "outputs": [
    {
     "name": "stdout",
     "output_type": "stream",
     "text": [
      "Bienvenido a Cinemex \n",
      "#Sin ti la magia del cine no es igual\n",
      "¿Cuántos boletos desea? 5\n",
      "\n"
     ]
    }
   ],
   "source": [
    "while True:\n",
    "    try:\n",
    "        cantidad_clientes = int(input(\"Bienvenido a Cinemex \\n#Sin ti la magia del cine no es igual\\n¿Cuántos boletos desea? \"))\n",
    "        if cantidad_clientes <= 0:\n",
    "            print(\"Número de boletos inválido\\n\")\n",
    "        else:\n",
    "            break\n",
    "    except ValueError as e:\n",
    "        print(\"Valor inválido\\n\")\n",
    "print()"
   ]
  },
  {
   "cell_type": "markdown",
   "metadata": {},
   "source": [
    "# Determinando las edades"
   ]
  },
  {
   "cell_type": "markdown",
   "metadata": {},
   "source": [
    "Para determinar cuanto será el total, se usa un blucle while que se repetirá hasta que se tome todas las edades de las personas. Es un blucle infinito que no permite que se escriban números menores a 0 no letras. Por eso mismo no se utiliza la función for, pues a mi comprensión, se repite un número limitado de veces, diferente a while que se ejecuta cuantas veces sea necesario"
   ]
  },
  {
   "cell_type": "code",
   "execution_count": 5,
   "metadata": {},
   "outputs": [
    {
     "name": "stdout",
     "output_type": "stream",
     "text": [
      "Escriba la edad del cliente numero 1: 12\n",
      "Escriba la edad del cliente numero 2: 24\n",
      "Escriba la edad del cliente numero 3: 18\n",
      "¿Usted se encuentra estudiando actualmente?\n",
      "(S/N) s\n",
      "Escriba la edad del cliente numero 4: 253\n",
      "Escriba la edad del cliente numero 5: 32\n"
     ]
    }
   ],
   "source": [
    "while cantidad_clientes > 0: #En este bloque se recopilan los datos de los clientes para determinar el precio al que se le venderá el boleto\n",
    "    while True:#Pide la edad, su utiliza ehile para que en caso de no escribir un número \n",
    "        try:\n",
    "            edad = int(input(f\"Escriba la edad del cliente numero {numero_cliente}: \"))\n",
    "            break\n",
    "        except ValueError as e:\n",
    "            print(\"Solo valores numericos enteros\\n\")\n",
    "    if edad < 0:#Rregula que no se escriban números negativos, que no se aplican a edades\n",
    "        print(\"Edad invalidad\\n\")\n",
    "    elif 3 <= edad <= 14:#Determina si el cliente es niño\n",
    "        total = total + 25\n",
    "        niños = niños + 1\n",
    "        cantidad_clientes = cantidad_clientes - 1\n",
    "        numero_cliente = numero_cliente + 1\n",
    "    elif 15 <= edad <= 17:#Determina si el cliente entra en la categoría estudiante\n",
    "        total = total + 32\n",
    "        estudiante = estudiante + 1\n",
    "        cantidad_clientes = cantidad_clientes - 1\n",
    "        numero_cliente = numero_cliente + 1\n",
    "    elif 18 <= edad <= 21:#En este rango existen dos posibles categorías, estudiante o adulto\n",
    "        while True:#Determina si el cliente es estudiante\n",
    "            estudia = input(\"¿Usted se encuentra estudiando actualmente?\\n(S/N) \")\n",
    "            estudia = estudia.upper()\n",
    "            if estudia == 'S':\n",
    "                total = total + 32\n",
    "                estudiante = estudiante + 1\n",
    "                cantidad_clientes = cantidad_clientes - 1\n",
    "                numero_cliente = numero_cliente + 1\n",
    "                break\n",
    "            elif estudia == 'N':\n",
    "                total = total + 43\n",
    "                adulto = adulto + 1\n",
    "                cantidad_clientes = cantidad_clientes - 1\n",
    "                numero_cliente = numero_cliente + 1\n",
    "                break\n",
    "            else:\n",
    "                print(\"Solo responde con 'S' o 'No'\")\n",
    "    elif 22 <= edad <= 64:#Determina si es adulto\n",
    "        total = total + 30\n",
    "        adulto = adulto + 1\n",
    "        cantidad_clientes = cantidad_clientes - 1\n",
    "        numero_cliente = numero_cliente + 1\n",
    "    elif edad >= 65:#A partie de esta edad se le considera adulto mayor\n",
    "        total = total + 30\n",
    "        adulto_mayor = adulto_mayor + 1\n",
    "        cantidad_clientes = cantidad_clientes - 1\n",
    "        numero_cliente = numero_cliente + 1\n",
    "    else:\n",
    "        print(\"Aún no tiene la edad adecuada para entrar al cine\\n\")"
   ]
  },
  {
   "cell_type": "markdown",
   "metadata": {},
   "source": [
    "# Resultados finales"
   ]
  },
  {
   "cell_type": "markdown",
   "metadata": {},
   "source": [
    "Al final sólo se imprime el total de gastos y la cantidad de boletos que se compraron. Como plus, se utilizan multiples if para que solo se impriman las categorías de las que se ha comprado boleto"
   ]
  },
  {
   "cell_type": "code",
   "execution_count": 6,
   "metadata": {},
   "outputs": [
    {
     "name": "stdout",
     "output_type": "stream",
     "text": [
      "\n",
      "Usted ha comprado\n",
      "\n",
      "1 Boleto para niño X $25\n",
      "2 Boletos para adultos X $43\n",
      "1 Boleto para estudiante X $32\n",
      "1 Boleto para adulto mayor X $30\n",
      "\n",
      "Su total es de $147\n",
      "\n",
      "Gracias por su compra\n",
      "#Sin ti la magia del cine no es igual\n"
     ]
    }
   ],
   "source": [
    "print(\"\\nUsted ha comprado\\n\")\n",
    "if niños != 0:\n",
    "    if niños == 1:\n",
    "        print(f\"{niños} Boleto para niño X $25\")\n",
    "    else:\n",
    "        print(f\"{niños} Boletos para niños X $25\")\n",
    "if adulto != 0:\n",
    "    if adulto == 1:\n",
    "        print(f\"{adulto} Boleto para adulto X $43\")\n",
    "    else:\n",
    "        print(f\"{adulto} Boletos para adultos X $43\")\n",
    "if estudiante != 0:\n",
    "    if estudiante == 1:\n",
    "        print(f\"{estudiante} Boleto para estudiante X $32\")\n",
    "    else:\n",
    "        print(f\"{estudiante} Boletos para estudiantes X $32\")\n",
    "if adulto_mayor != 0:\n",
    "    if adulto_mayor == 1:\n",
    "        print(f\"{adulto_mayor} Boleto para adulto mayor X $30\")\n",
    "    else:\n",
    "        print(f\"{adulto_mayor} Boletos para adultos mayores X 30\")\n",
    "print(f\"\\nSu total es de ${total}\")\n",
    "print(\"\\nGracias por su compra\\n#Sin ti la magia del cine no es igual\")\n"
   ]
  }
 ],
 "metadata": {
  "kernelspec": {
   "display_name": "Python 3",
   "language": "python",
   "name": "python3"
  },
  "language_info": {
   "codemirror_mode": {
    "name": "ipython",
    "version": 3
   },
   "file_extension": ".py",
   "mimetype": "text/x-python",
   "name": "python",
   "nbconvert_exporter": "python",
   "pygments_lexer": "ipython3",
   "version": "3.7.6"
  }
 },
 "nbformat": 4,
 "nbformat_minor": 4
}
