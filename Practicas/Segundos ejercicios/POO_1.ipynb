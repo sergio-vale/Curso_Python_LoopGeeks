{
 "cells": [
  {
   "cell_type": "markdown",
   "metadata": {},
   "source": [
    "# Ejercicio 1 POO"
   ]
  },
  {
   "cell_type": "markdown",
   "metadata": {},
   "source": [
    "Hacer un programa que contenga una clase “Persona”, la clase debe\n",
    "tener como atributos “nombre” y “edad”. Además de los métodos para\n",
    "inicializar, mostrar datos e indicar si la persona es mayor de edad o\n",
    "no. Cree un objeto de la clase persona y trabaje sobre este."
   ]
  },
  {
   "cell_type": "markdown",
   "metadata": {},
   "source": [
    "## Crear el la clase \"Persona\""
   ]
  },
  {
   "cell_type": "code",
   "execution_count": 1,
   "metadata": {},
   "outputs": [],
   "source": [
    "class Persona:\n",
    "    #Se crea la clase persona\n",
    "    def __init__(self):\n",
    "        #Función que se iniciara al crear un objeto de la clase persona\n",
    "        #que almacenará dos valores, edad y nombre\n",
    "        self.nombre = input(\"Escriba el nombre de la persona: \")\n",
    "        self.edad = int(input(\"Escriba la edad de la persona: \"))\n",
    "        \n",
    "    def imprimir(self):\n",
    "        #Función que imprime en pantalla la edad de la persona\n",
    "        print(f\"\\n{self.nombre} tiene {self.edad} años\")\n",
    "        \n",
    "    def etapa(self):\n",
    "        #Funcion que lee la edad evalua el numeor introducido en edad\n",
    "        #y si es igual o menor a 17 conluye que el objeto de la clase persona es menor de edad\n",
    "        #Si no es así, será mayor de edad\n",
    "        if self.edad <= 17:\n",
    "            print(f\"\\n{self.nombre} es menor de edad\")\n",
    "        else:\n",
    "            print(f\"\\n{self.nombre} es mayor de edad\")"
   ]
  },
  {
   "cell_type": "markdown",
   "metadata": {},
   "source": [
    "## Creando un objeto"
   ]
  },
  {
   "cell_type": "code",
   "execution_count": 2,
   "metadata": {
    "scrolled": true
   },
   "outputs": [
    {
     "name": "stdout",
     "output_type": "stream",
     "text": [
      "Escriba el nombre de la persona: Sergio\n",
      "Escriba la edad de la persona: 18\n"
     ]
    }
   ],
   "source": [
    "inge = Persona()"
   ]
  },
  {
   "cell_type": "code",
   "execution_count": 3,
   "metadata": {},
   "outputs": [
    {
     "name": "stdout",
     "output_type": "stream",
     "text": [
      "Sergio tiene 18 años\n"
     ]
    }
   ],
   "source": [
    "inge.imprimir()"
   ]
  },
  {
   "cell_type": "code",
   "execution_count": 4,
   "metadata": {},
   "outputs": [
    {
     "name": "stdout",
     "output_type": "stream",
     "text": [
      "Sergio es mayor de edad\n"
     ]
    }
   ],
   "source": [
    "inge.etapa()"
   ]
  }
 ],
 "metadata": {
  "kernelspec": {
   "display_name": "Python 3",
   "language": "python",
   "name": "python3"
  },
  "language_info": {
   "codemirror_mode": {
    "name": "ipython",
    "version": 3
   },
   "file_extension": ".py",
   "mimetype": "text/x-python",
   "name": "python",
   "nbconvert_exporter": "python",
   "pygments_lexer": "ipython3",
   "version": "3.7.6"
  }
 },
 "nbformat": 4,
 "nbformat_minor": 4
}
