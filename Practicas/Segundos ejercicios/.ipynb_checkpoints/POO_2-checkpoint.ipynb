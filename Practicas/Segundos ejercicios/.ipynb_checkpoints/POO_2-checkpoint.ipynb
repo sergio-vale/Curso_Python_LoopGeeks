{
 "cells": [
  {
   "cell_type": "markdown",
   "metadata": {},
   "source": [
    "# Ejercicio 2 POO"
   ]
  },
  {
   "cell_type": "markdown",
   "metadata": {},
   "source": [
    "Existen 3 tipos de triángulos, equilátero, isósceles y escaleno.\n",
    "Cree una clase Triangulo y con 4 métodos haga lo siguiente:"
   ]
  },
  {
   "cell_type": "markdown",
   "metadata": {},
   "source": [
    "• Inicialize"
   ]
  },
  {
   "cell_type": "markdown",
   "metadata": {},
   "source": [
    "• Imprima datos"
   ]
  },
  {
   "cell_type": "markdown",
   "metadata": {},
   "source": [
    "• Defina que lado es mayor"
   ]
  },
  {
   "cell_type": "markdown",
   "metadata": {},
   "source": [
    "• Defina el tipo de triangulo."
   ]
  },
  {
   "cell_type": "markdown",
   "metadata": {},
   "source": [
    "Cree un objeto a partir de esta clase y ejecute los métodos\n",
    "correspondientes."
   ]
  },
  {
   "cell_type": "markdown",
   "metadata": {},
   "source": [
    "## Crear la clase triangulo"
   ]
  },
  {
   "cell_type": "code",
   "execution_count": 1,
   "metadata": {},
   "outputs": [],
   "source": [
    "class Triangulo:\n",
    "    \"\"\"Se crea la clase triangulo\"\"\"\n",
    "    def __init__(self):\n",
    "        \"\"\"Esta dunción pedira tres datos que son las medidas y las almacenará\"\"\"\n",
    "        self.lado_1 = int(input(\"Escriba la medida del primer lado: \"))\n",
    "        self.lado_2 = int(input(\"Escriba la medida del segundo lado: \"))\n",
    "        self.lado_3 = int(input(\"Escrina la medida del tercer lado: \"))\n",
    "\n",
    "    def imprimir(self):\n",
    "        \"\"\"Imprime en pantalla la medida de los lados del triangulo\"\"\"\n",
    "        print(\"\\nLos lados del triangulo tienen las siguientes medidas\")\n",
    "        print(f\" >El lado uno mide {self.lado_1}u\")\n",
    "        print(f\" >El lado uno mide {self.lado_2}u\")\n",
    "        print(f\" >El lado uno mide {self.lado_3}u\")\n",
    "\n",
    "    def tipo(self):\n",
    "        \"\"\"Evalua la medida de los lados para determinar el tipo de triangulo. \n",
    "        Sabemos que los equilateros tienen la misma medida en todos sus lados, \n",
    "        los isósceles tienen dos lados iguales y uno diferente, y los escalenos \n",
    "        tienen medidas diferentes en todos sus lados\"\"\"\n",
    "        if self.lado_1 == self.lado_2 and self.lado_2 == self.lado_3:\n",
    "            print(\"\\nEste triangulo es equilátero\")\n",
    "        elif self.lado_1 != self.lado_2 and self.lado_2 != self.lado_3 and self.lado_1 != self.lado_3:\n",
    "            print(\"\\nEste triangulo es escaleno\")\n",
    "        else:\n",
    "            print(\"\\nEste triangulo es isósceles\")\n",
    "    "
   ]
  },
  {
   "cell_type": "markdown",
   "metadata": {},
   "source": [
    "## Crear el objeto de la clase triangulo"
   ]
  },
  {
   "cell_type": "code",
   "execution_count": 2,
   "metadata": {
    "scrolled": true
   },
   "outputs": [
    {
     "name": "stdout",
     "output_type": "stream",
     "text": [
      "Escriba la medida del primer lado: 2\n",
      "Escriba la medida del segundo lado: 4\n",
      "Escrina la medida del tercer lado: 2\n"
     ]
    }
   ],
   "source": [
    "forma_1 = Triangulo()"
   ]
  },
  {
   "cell_type": "code",
   "execution_count": 3,
   "metadata": {},
   "outputs": [
    {
     "name": "stdout",
     "output_type": "stream",
     "text": [
      "Los lados del triangulo tienen las siguientes medidas\n",
      "El lado uno mide 2u\n",
      "El lado uno mide 4u\n",
      "El lado uno mide 2u\n"
     ]
    }
   ],
   "source": [
    "forma_1.imprimir()"
   ]
  },
  {
   "cell_type": "code",
   "execution_count": 4,
   "metadata": {},
   "outputs": [
    {
     "name": "stdout",
     "output_type": "stream",
     "text": [
      "Este triangulo es isósceles\n"
     ]
    }
   ],
   "source": [
    "forma_1.tipo()"
   ]
  },
  {
   "cell_type": "code",
   "execution_count": null,
   "metadata": {},
   "outputs": [],
   "source": []
  }
 ],
 "metadata": {
  "kernelspec": {
   "display_name": "Python 3",
   "language": "python",
   "name": "python3"
  },
  "language_info": {
   "codemirror_mode": {
    "name": "ipython",
    "version": 3
   },
   "file_extension": ".py",
   "mimetype": "text/x-python",
   "name": "python",
   "nbconvert_exporter": "python",
   "pygments_lexer": "ipython3",
   "version": "3.7.6"
  }
 },
 "nbformat": 4,
 "nbformat_minor": 4
}
