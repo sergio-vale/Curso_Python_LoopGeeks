{
 "cells": [
  {
   "cell_type": "markdown",
   "metadata": {},
   "source": [
    "# Programación orientada a objetos"
   ]
  },
  {
   "cell_type": "markdown",
   "metadata": {},
   "source": [
    "En Python todo es un objeto                     "
   ]
  },
  {
   "cell_type": "code",
   "execution_count": 1,
   "metadata": {},
   "outputs": [],
   "source": [
    "#Las clases en Python siempre empiezan Mayúscula\n",
    "class Persona:\n",
    "    nombre = \"Hever\"\n",
    "    apellido = \"Rubio\"\n",
    "    sexo = \"M\""
   ]
  },
  {
   "cell_type": "code",
   "execution_count": 2,
   "metadata": {},
   "outputs": [],
   "source": [
    "usuario = Persona"
   ]
  },
  {
   "cell_type": "code",
   "execution_count": 3,
   "metadata": {},
   "outputs": [
    {
     "data": {
      "text/plain": [
       "'Hever'"
      ]
     },
     "execution_count": 3,
     "metadata": {},
     "output_type": "execute_result"
    }
   ],
   "source": [
    "usuario.nombre"
   ]
  },
  {
   "cell_type": "code",
   "execution_count": 4,
   "metadata": {},
   "outputs": [
    {
     "data": {
      "text/plain": [
       "'Rubio'"
      ]
     },
     "execution_count": 4,
     "metadata": {},
     "output_type": "execute_result"
    }
   ],
   "source": [
    "usuario.apellido"
   ]
  },
  {
   "cell_type": "code",
   "execution_count": 5,
   "metadata": {},
   "outputs": [
    {
     "data": {
      "text/plain": [
       "'M'"
      ]
     },
     "execution_count": 5,
     "metadata": {},
     "output_type": "execute_result"
    }
   ],
   "source": [
    "usuario.sexo"
   ]
  },
  {
   "cell_type": "code",
   "execution_count": 6,
   "metadata": {},
   "outputs": [],
   "source": [
    "#Las clases siempre deben hablar de lo que estamos haciendo\n",
    "class Humano:\n",
    "    def inicializar(self,nom):\n",
    "        self.nombre = nom\n",
    "    def mostrar(self):\n",
    "        print(f\"Nombre: {self.nombre}\")"
   ]
  },
  {
   "cell_type": "code",
   "execution_count": 7,
   "metadata": {},
   "outputs": [],
   "source": [
    "persona = Humano()"
   ]
  },
  {
   "cell_type": "code",
   "execution_count": 8,
   "metadata": {},
   "outputs": [],
   "source": [
    "persona.inicializar(\"Jhon\")"
   ]
  },
  {
   "cell_type": "code",
   "execution_count": 9,
   "metadata": {},
   "outputs": [
    {
     "name": "stdout",
     "output_type": "stream",
     "text": [
      "Nombre: Jhon\n"
     ]
    }
   ],
   "source": [
    "persona.mostrar()"
   ]
  },
  {
   "cell_type": "code",
   "execution_count": 10,
   "metadata": {},
   "outputs": [],
   "source": [
    "politico = Humano()"
   ]
  },
  {
   "cell_type": "code",
   "execution_count": 11,
   "metadata": {},
   "outputs": [
    {
     "name": "stdout",
     "output_type": "stream",
     "text": [
      "Ingresen el nombre del politico: Vicente\n"
     ]
    }
   ],
   "source": [
    "name = input(\"Ingresen el nombre del politico: \")"
   ]
  },
  {
   "cell_type": "code",
   "execution_count": 12,
   "metadata": {},
   "outputs": [],
   "source": [
    "politico.inicializar(name)"
   ]
  },
  {
   "cell_type": "code",
   "execution_count": 13,
   "metadata": {},
   "outputs": [
    {
     "name": "stdout",
     "output_type": "stream",
     "text": [
      "Nombre: Vicente\n"
     ]
    }
   ],
   "source": [
    "politico.mostrar()"
   ]
  },
  {
   "cell_type": "markdown",
   "metadata": {},
   "source": [
    "## Calificaciones de un alumno"
   ]
  },
  {
   "cell_type": "code",
   "execution_count": 33,
   "metadata": {},
   "outputs": [],
   "source": [
    "class Estudiante:\n",
    "    def inicializar(self,nombre,calificacion):\n",
    "        #Metodo\n",
    "        self.nombre = nombre\n",
    "        self.calificacion = calificacion\n",
    "    \n",
    "    def imprimir(self):\n",
    "        print(f\"Nombre: {self.nombre}\")\n",
    "        print(f\"Calificación: {self.calificacion}\")\n",
    "        \n",
    "    def resultado(self):\n",
    "        if self.calificacion <7:\n",
    "            print(\"El alumno ha reprobado\")\n",
    "        else:\n",
    "            print(\"El alumno ha aprobado\")"
   ]
  },
  {
   "cell_type": "code",
   "execution_count": 34,
   "metadata": {},
   "outputs": [],
   "source": [
    "alumno = Estudiante()"
   ]
  },
  {
   "cell_type": "code",
   "execution_count": 35,
   "metadata": {},
   "outputs": [],
   "source": [
    "alumno.inicializar(\"Hever\", 6)"
   ]
  },
  {
   "cell_type": "code",
   "execution_count": 36,
   "metadata": {},
   "outputs": [
    {
     "name": "stdout",
     "output_type": "stream",
     "text": [
      "Nombre: Hever\n",
      "Calificación: 6\n"
     ]
    }
   ],
   "source": [
    "alumno.imprimir()"
   ]
  },
  {
   "cell_type": "code",
   "execution_count": 37,
   "metadata": {},
   "outputs": [
    {
     "name": "stdout",
     "output_type": "stream",
     "text": [
      "El alumno ha reprobado\n"
     ]
    }
   ],
   "source": [
    "alumno.resultado()"
   ]
  },
  {
   "cell_type": "code",
   "execution_count": 38,
   "metadata": {},
   "outputs": [],
   "source": [
    "alumno_a = Estudiante()"
   ]
  },
  {
   "cell_type": "code",
   "execution_count": 39,
   "metadata": {},
   "outputs": [],
   "source": [
    "alumno_a.inicializar(\"David\", 10)"
   ]
  },
  {
   "cell_type": "code",
   "execution_count": 40,
   "metadata": {},
   "outputs": [
    {
     "name": "stdout",
     "output_type": "stream",
     "text": [
      "Nombre: David\n",
      "Calificación: 10\n"
     ]
    }
   ],
   "source": [
    "alumno_a.imprimir()"
   ]
  },
  {
   "cell_type": "code",
   "execution_count": 41,
   "metadata": {},
   "outputs": [
    {
     "name": "stdout",
     "output_type": "stream",
     "text": [
      "El alumno ha aprobado\n"
     ]
    }
   ],
   "source": [
    "alumno_a.resultado()"
   ]
  },
  {
   "cell_type": "code",
   "execution_count": 58,
   "metadata": {},
   "outputs": [],
   "source": [
    "class Alumno:\n",
    "    def __init__(self):\n",
    "        self.nombre = input(\"Ponga el nombre del alumno: \")\n",
    "        self.calificacion = input(\"Ponga la calificacion del alumno: \")\n",
    "    \n",
    "    def inicializar(self,nombre,calificacion):\n",
    "        #Metodo\n",
    "        self.nombre = nombre\n",
    "        self.calificacion = calificacion\n",
    "    \n",
    "    def imprimir(self):\n",
    "        print(f\"Nombre: {self.nombre}\")\n",
    "        print(f\"Calificación: {self.calificacion}\")\n",
    "        \n",
    "    def resultado(self):\n",
    "        if float(self.calificacion) < 7:\n",
    "            print(\"El alumno ha reprobado\")\n",
    "        else:\n",
    "            print(\"El alumno ha aprobado\")"
   ]
  },
  {
   "cell_type": "code",
   "execution_count": 59,
   "metadata": {},
   "outputs": [
    {
     "name": "stdout",
     "output_type": "stream",
     "text": [
      "Ponga el nombre del alumno: Sergio Valencia\n",
      "Ponga la calificacion del alumno: 8.5\n"
     ]
    }
   ],
   "source": [
    "alumno_b = Alumno()"
   ]
  },
  {
   "cell_type": "code",
   "execution_count": 60,
   "metadata": {},
   "outputs": [
    {
     "name": "stdout",
     "output_type": "stream",
     "text": [
      "Nombre: Sergio Valencia\n",
      "Calificación: 8.5\n"
     ]
    }
   ],
   "source": [
    "alumno_b.imprimir()"
   ]
  },
  {
   "cell_type": "code",
   "execution_count": 61,
   "metadata": {},
   "outputs": [
    {
     "name": "stdout",
     "output_type": "stream",
     "text": [
      "El alumno ha aprobado\n"
     ]
    }
   ],
   "source": [
    "alumno_b.resultado()"
   ]
  }
 ],
 "metadata": {
  "kernelspec": {
   "display_name": "Python 3",
   "language": "python",
   "name": "python3"
  },
  "language_info": {
   "codemirror_mode": {
    "name": "ipython",
    "version": 3
   },
   "file_extension": ".py",
   "mimetype": "text/x-python",
   "name": "python",
   "nbconvert_exporter": "python",
   "pygments_lexer": "ipython3",
   "version": "3.7.6"
  }
 },
 "nbformat": 4,
 "nbformat_minor": 4
}
