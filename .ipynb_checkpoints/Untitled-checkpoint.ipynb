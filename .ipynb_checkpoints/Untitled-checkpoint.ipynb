{
 "cells": [
  {
   "cell_type": "markdown",
   "metadata": {},
   "source": [
    "# If"
   ]
  },
  {
   "cell_type": "markdown",
   "metadata": {},
   "source": [
    "## Permite generar un bloque de código que se ejecutará si se cumple la condición de entrada que tiene"
   ]
  },
  {
   "cell_type": "code",
   "execution_count": 1,
   "metadata": {},
   "outputs": [],
   "source": [
    "dia_semana = 7"
   ]
  },
  {
   "cell_type": "code",
   "execution_count": 2,
   "metadata": {},
   "outputs": [
    {
     "name": "stdout",
     "output_type": "stream",
     "text": [
      "Hoy es domingo\n"
     ]
    }
   ],
   "source": [
    "if dia_semana == 7:\n",
    "    print(\"Hoy es domingo\")"
   ]
  },
  {
   "cell_type": "markdown",
   "metadata": {},
   "source": [
    "## Nota:"
   ]
  },
  {
   "cell_type": "markdown",
   "metadata": {},
   "source": [
    "En Python la identación es parte de la sintaxis, por ende una instrucción if escrita de la siguiente manera dos dará error"
   ]
  },
  {
   "cell_type": "code",
   "execution_count": 3,
   "metadata": {},
   "outputs": [
    {
     "ename": "IndentationError",
     "evalue": "expected an indented block (<ipython-input-3-2f823e608548>, line 2)",
     "output_type": "error",
     "traceback": [
      "\u001b[1;36m  File \u001b[1;32m\"<ipython-input-3-2f823e608548>\"\u001b[1;36m, line \u001b[1;32m2\u001b[0m\n\u001b[1;33m    print(\"Hoy es domingo\")\u001b[0m\n\u001b[1;37m        ^\u001b[0m\n\u001b[1;31mIndentationError\u001b[0m\u001b[1;31m:\u001b[0m expected an indented block\n"
     ]
    }
   ],
   "source": [
    "if dia_semana == 7:\n",
    "print(\"Hoy es domingo\")"
   ]
  },
  {
   "cell_type": "markdown",
   "metadata": {},
   "source": [
    "A eso se le conoce como error de identación"
   ]
  },
  {
   "cell_type": "markdown",
   "metadata": {},
   "source": [
    "# elif"
   ]
  },
  {
   "cell_type": "markdown",
   "metadata": {},
   "source": [
    "#### Permite generar un camino alternatibo con una condicón de entrada, se usa normalmente en complemento a un if si se cuenta con más de 1 posible camino en el desarrollo del programa"
   ]
  },
  {
   "cell_type": "markdown",
   "metadata": {},
   "source": [
    "Ejemplo"
   ]
  },
  {
   "cell_type": "code",
   "execution_count": 4,
   "metadata": {},
   "outputs": [],
   "source": [
    "dia_semana = 5"
   ]
  },
  {
   "cell_type": "code",
   "execution_count": 5,
   "metadata": {},
   "outputs": [
    {
     "name": "stdout",
     "output_type": "stream",
     "text": [
      "Hoy es viernes\n"
     ]
    }
   ],
   "source": [
    "if dia_semana == 1:\n",
    "    print(\"Hoy es lunes\")\n",
    "elif dia_semana == 2:\n",
    "    print(\"Hoy es martes\")\n",
    "elif dia_semana == 3:\n",
    "    print(\"Hoy es miercoles\")\n",
    "elif dia_semana == 4:\n",
    "    print(\"Hoy es jueves\")\n",
    "elif dia_semana == 5:\n",
    "    print(\"Hoy es viernes\")\n",
    "elif dia_semana == 6:\n",
    "    print(\"Hoy es sabado\")\n",
    "elif dia_semana == 7:\n",
    "    print(\"Hoy es domingo\")"
   ]
  },
  {
   "cell_type": "markdown",
   "metadata": {},
   "source": [
    "# else"
   ]
  },
  {
   "cell_type": "markdown",
   "metadata": {},
   "source": [
    "### Permite generar un camino alternativo que se ejecutará siempre que no se haya cumplido las condiciones de los posibles caminos de las instrucciones if y elif"
   ]
  },
  {
   "cell_type": "code",
   "execution_count": 6,
   "metadata": {},
   "outputs": [],
   "source": [
    "dia_semana = 5"
   ]
  },
  {
   "cell_type": "code",
   "execution_count": 7,
   "metadata": {},
   "outputs": [
    {
     "name": "stdout",
     "output_type": "stream",
     "text": [
      "Hoy es viernes\n"
     ]
    }
   ],
   "source": [
    "if dia_semana == 1:\n",
    "    print(\"Hoy es lunes\")\n",
    "elif dia_semana == 2:\n",
    "    print(\"Hoy es martes\")\n",
    "elif dia_semana == 3:\n",
    "    print(\"Hoy es miercoles\")\n",
    "elif dia_semana == 4:\n",
    "    print(\"Hoy es jueves\")\n",
    "elif dia_semana == 5:\n",
    "    print(\"Hoy es viernes\")\n",
    "elif dia_semana == 6:\n",
    "    print(\"Hoy es sabado\")\n",
    "elif dia_semana == 7:\n",
    "    print(\"Hoy es domingo\")\n",
    "else:\n",
    "    print(\"Dia de semana no valido\")"
   ]
  },
  {
   "cell_type": "markdown",
   "metadata": {},
   "source": [
    "## Como vemos trabajar con condicionales es muy sencillo, sin embargo para utilizarlos correctamente hay que tener rn cuenta entonces lo siguiente:"
   ]
  },
  {
   "cell_type": "markdown",
   "metadata": {},
   "source": [
    "### -Tipo de dato que contiene la variable a evaluar"
   ]
  },
  {
   "cell_type": "markdown",
   "metadata": {},
   "source": [
    "### -Lógica de la computación"
   ]
  },
  {
   "cell_type": "markdown",
   "metadata": {},
   "source": [
    "### -Cuántos caminos ha de tener mi programa"
   ]
  },
  {
   "cell_type": "markdown",
   "metadata": {},
   "source": [
    "### -Alteraciones fuera de un entorno controlado"
   ]
  }
 ],
 "metadata": {
  "kernelspec": {
   "display_name": "Python 3",
   "language": "python",
   "name": "python3"
  },
  "language_info": {
   "codemirror_mode": {
    "name": "ipython",
    "version": 3
   },
   "file_extension": ".py",
   "mimetype": "text/x-python",
   "name": "python",
   "nbconvert_exporter": "python",
   "pygments_lexer": "ipython3",
   "version": "3.7.6"
  }
 },
 "nbformat": 4,
 "nbformat_minor": 4
}
